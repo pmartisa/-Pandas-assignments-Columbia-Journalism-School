{
 "cells": [
  {
   "cell_type": "markdown",
   "metadata": {},
   "source": [
    "# Homework 6, Part Two: A dataset about dogs.\n",
    "\n",
    "Data from [a FOIL request to New York City](https://www.muckrock.com/foi/new-york-city-17/pet-licensing-data-for-new-york-city-23826/)"
   ]
  },
  {
   "cell_type": "markdown",
   "metadata": {},
   "source": [
    "## Do your importing and your setup"
   ]
  },
  {
   "cell_type": "code",
   "execution_count": 453,
   "metadata": {},
   "outputs": [],
   "source": [
    "import pandas as pd\n",
    "import numpy as np"
   ]
  },
  {
   "cell_type": "markdown",
   "metadata": {},
   "source": [
    "## Read in the file `NYC_Dog_Licenses_Current_as_of_4-28-2016.xlsx` and look at the first five rows"
   ]
  },
  {
   "cell_type": "code",
   "execution_count": 454,
   "metadata": {
    "scrolled": true
   },
   "outputs": [
    {
     "data": {
      "text/html": [
       "<div>\n",
       "<style scoped>\n",
       "    .dataframe tbody tr th:only-of-type {\n",
       "        vertical-align: middle;\n",
       "    }\n",
       "\n",
       "    .dataframe tbody tr th {\n",
       "        vertical-align: top;\n",
       "    }\n",
       "\n",
       "    .dataframe thead th {\n",
       "        text-align: right;\n",
       "    }\n",
       "</style>\n",
       "<table border=\"1\" class=\"dataframe\">\n",
       "  <thead>\n",
       "    <tr style=\"text-align: right;\">\n",
       "      <th></th>\n",
       "      <th>Owner_Zip_Code</th>\n",
       "      <th>Animal_Name</th>\n",
       "      <th>Animal_Gender</th>\n",
       "      <th>Primary_Breed</th>\n",
       "      <th>Secondary_Breed</th>\n",
       "      <th>Animal_Dominant_Color</th>\n",
       "      <th>Animal_Secondary_Color</th>\n",
       "      <th>Animal_Third_Color</th>\n",
       "      <th>Animal_Birth</th>\n",
       "      <th>Spayed_or_Neut</th>\n",
       "      <th>Guard_or_Trained</th>\n",
       "      <th>Vaccinated</th>\n",
       "      <th>Application_Date</th>\n",
       "      <th>License_Issued_Date</th>\n",
       "      <th>License_Expired_Date</th>\n",
       "    </tr>\n",
       "  </thead>\n",
       "  <tbody>\n",
       "    <tr>\n",
       "      <th>0</th>\n",
       "      <td>10024</td>\n",
       "      <td>BLUE MACK</td>\n",
       "      <td>M</td>\n",
       "      <td>NaN</td>\n",
       "      <td>AIREDALE TERR</td>\n",
       "      <td>BROWN</td>\n",
       "      <td>BLACK</td>\n",
       "      <td>NaN</td>\n",
       "      <td>2007-11-01</td>\n",
       "      <td>Yes</td>\n",
       "      <td>No</td>\n",
       "      <td>Yes</td>\n",
       "      <td>2012-09-19 16:01:19.647</td>\n",
       "      <td>2015-09-19</td>\n",
       "      <td>2016-09-19</td>\n",
       "    </tr>\n",
       "    <tr>\n",
       "      <th>1</th>\n",
       "      <td>10461</td>\n",
       "      <td>Indie Zephir</td>\n",
       "      <td>M</td>\n",
       "      <td>Rottweiler</td>\n",
       "      <td>NaN</td>\n",
       "      <td>BLACK</td>\n",
       "      <td>TAN</td>\n",
       "      <td>NaN</td>\n",
       "      <td>2013-04-01</td>\n",
       "      <td>No</td>\n",
       "      <td>No</td>\n",
       "      <td>Yes</td>\n",
       "      <td>2013-09-20 11:41:36.647</td>\n",
       "      <td>2014-09-20</td>\n",
       "      <td>2018-09-20</td>\n",
       "    </tr>\n",
       "    <tr>\n",
       "      <th>2</th>\n",
       "      <td>10013</td>\n",
       "      <td>Bilal</td>\n",
       "      <td>M</td>\n",
       "      <td>Australian Cattledog</td>\n",
       "      <td>NaN</td>\n",
       "      <td>Rust</td>\n",
       "      <td>NaN</td>\n",
       "      <td>NaN</td>\n",
       "      <td>2014-09-01</td>\n",
       "      <td>Yes</td>\n",
       "      <td>NaN</td>\n",
       "      <td>No</td>\n",
       "      <td>2014-09-12 13:13:36.713</td>\n",
       "      <td>2014-09-12</td>\n",
       "      <td>2019-09-12</td>\n",
       "    </tr>\n",
       "    <tr>\n",
       "      <th>3</th>\n",
       "      <td>10025</td>\n",
       "      <td>Buddy</td>\n",
       "      <td>M</td>\n",
       "      <td>NaN</td>\n",
       "      <td>Cockapoo</td>\n",
       "      <td>BLOND</td>\n",
       "      <td>WHITE</td>\n",
       "      <td>NaN</td>\n",
       "      <td>2008-04-01</td>\n",
       "      <td>Yes</td>\n",
       "      <td>No</td>\n",
       "      <td>Yes</td>\n",
       "      <td>2014-09-12 15:26:51.417</td>\n",
       "      <td>2014-09-12</td>\n",
       "      <td>2017-10-20</td>\n",
       "    </tr>\n",
       "    <tr>\n",
       "      <th>4</th>\n",
       "      <td>10013</td>\n",
       "      <td>Ali</td>\n",
       "      <td>M</td>\n",
       "      <td>Basenji</td>\n",
       "      <td>NaN</td>\n",
       "      <td>Black</td>\n",
       "      <td>NaN</td>\n",
       "      <td>NaN</td>\n",
       "      <td>2014-01-01</td>\n",
       "      <td>No</td>\n",
       "      <td>NaN</td>\n",
       "      <td>No</td>\n",
       "      <td>2014-09-12 15:43:17.707</td>\n",
       "      <td>2014-09-12</td>\n",
       "      <td>2019-09-12</td>\n",
       "    </tr>\n",
       "  </tbody>\n",
       "</table>\n",
       "</div>"
      ],
      "text/plain": [
       "   Owner_Zip_Code   Animal_Name Animal_Gender         Primary_Breed  \\\n",
       "0           10024     BLUE MACK             M                   NaN   \n",
       "1           10461  Indie Zephir             M            Rottweiler   \n",
       "2           10013         Bilal             M  Australian Cattledog   \n",
       "3           10025         Buddy             M                   NaN   \n",
       "4           10013           Ali             M               Basenji   \n",
       "\n",
       "  Secondary_Breed Animal_Dominant_Color Animal_Secondary_Color  \\\n",
       "0   AIREDALE TERR                 BROWN                  BLACK   \n",
       "1             NaN                 BLACK                    TAN   \n",
       "2             NaN                  Rust                    NaN   \n",
       "3        Cockapoo                 BLOND                  WHITE   \n",
       "4             NaN                 Black                    NaN   \n",
       "\n",
       "  Animal_Third_Color Animal_Birth Spayed_or_Neut Guard_or_Trained Vaccinated  \\\n",
       "0                NaN   2007-11-01            Yes               No        Yes   \n",
       "1                NaN   2013-04-01             No               No        Yes   \n",
       "2                NaN   2014-09-01            Yes              NaN         No   \n",
       "3                NaN   2008-04-01            Yes               No        Yes   \n",
       "4                NaN   2014-01-01             No              NaN         No   \n",
       "\n",
       "         Application_Date License_Issued_Date License_Expired_Date  \n",
       "0 2012-09-19 16:01:19.647          2015-09-19           2016-09-19  \n",
       "1 2013-09-20 11:41:36.647          2014-09-20           2018-09-20  \n",
       "2 2014-09-12 13:13:36.713          2014-09-12           2019-09-12  \n",
       "3 2014-09-12 15:26:51.417          2014-09-12           2017-10-20  \n",
       "4 2014-09-12 15:43:17.707          2014-09-12           2019-09-12  "
      ]
     },
     "execution_count": 454,
     "metadata": {},
     "output_type": "execute_result"
    }
   ],
   "source": [
    "df = pd.read_excel('NYC_Dog_Licenses_Current_as_of_4-28-2016.xlsx', na_values=[\"NaN\", \"Unknown\", \"UNKNOWN\", \"unknown\", \"no name\", \"NO NAME\", \"Dog Name Not Provided\"]) \n",
    "df.columns = df.columns.str.replace(' ','_')\n",
    "df.head(5)"
   ]
  },
  {
   "cell_type": "markdown",
   "metadata": {},
   "source": [
    "## How many rows do you have in the data? What are the column types?\n",
    "\n",
    "If there are more than 30,000 rows in your dataset, go back and only read in the first 30,000."
   ]
  },
  {
   "cell_type": "code",
   "execution_count": 456,
   "metadata": {},
   "outputs": [
    {
     "data": {
      "text/plain": [
       "(81937, 15)"
      ]
     },
     "execution_count": 456,
     "metadata": {},
     "output_type": "execute_result"
    }
   ],
   "source": [
    "# We have 81,937 rows\n",
    "df.shape"
   ]
  },
  {
   "cell_type": "code",
   "execution_count": 457,
   "metadata": {},
   "outputs": [
    {
     "data": {
      "text/plain": [
       "Owner_Zip_Code                     int64\n",
       "Animal_Name                       object\n",
       "Animal_Gender                     object\n",
       "Primary_Breed                     object\n",
       "Secondary_Breed                   object\n",
       "Animal_Dominant_Color             object\n",
       "Animal_Secondary_Color            object\n",
       "Animal_Third_Color                object\n",
       "Animal_Birth              datetime64[ns]\n",
       "Spayed_or_Neut                    object\n",
       "Guard_or_Trained                  object\n",
       "Vaccinated                        object\n",
       "Application_Date          datetime64[ns]\n",
       "License_Issued_Date       datetime64[ns]\n",
       "License_Expired_Date      datetime64[ns]\n",
       "dtype: object"
      ]
     },
     "execution_count": 457,
     "metadata": {},
     "output_type": "execute_result"
    }
   ],
   "source": [
    "df.dtypes"
   ]
  },
  {
   "cell_type": "markdown",
   "metadata": {},
   "source": [
    "## Describe the dataset in words. What is each row? List two column titles along with what each of those columns means.\n",
    "\n",
    "For example: “Each row is an animal in the zoo. `is_reptile` is whether the animal is a reptile or not”"
   ]
  },
  {
   "cell_type": "code",
   "execution_count": 161,
   "metadata": {},
   "outputs": [],
   "source": [
    "# Each row is a dog in NYC\n",
    "# 'Vaccinated' is wheather the dog is vaccinated or not\n",
    "# 'Animal_Dominant_Color'is the predominant color even if there are others"
   ]
  },
  {
   "cell_type": "markdown",
   "metadata": {},
   "source": [
    "# Your thoughts\n",
    "\n",
    "Think of four questions you could ask this dataset. **Don't ask them**, just write them down in the cell below. Feel free to use either Markdown or Python comments."
   ]
  },
  {
   "cell_type": "code",
   "execution_count": 162,
   "metadata": {},
   "outputs": [],
   "source": [
    "# What are the most common breeds for male vs female dogs\n",
    "# How many dog licenses have already expired\n",
    "# What is the most common name for a dog\n",
    "# Are dogs usually spayed"
   ]
  },
  {
   "cell_type": "markdown",
   "metadata": {},
   "source": [
    "# Looking at some dogs"
   ]
  },
  {
   "cell_type": "markdown",
   "metadata": {},
   "source": [
    "## What are the most popular (primary) breeds of dogs? Graph the top 10."
   ]
  },
  {
   "cell_type": "code",
   "execution_count": 458,
   "metadata": {
    "scrolled": true
   },
   "outputs": [
    {
     "data": {
      "text/plain": [
       "yorkshire terrier                       5133\n",
       "shih tzu                                4727\n",
       "chihuahua                               3924\n",
       "maltese                                 2965\n",
       "labrador retriever                      2872\n",
       "american pit bull terrier/pit bull      2153\n",
       "american pit bull mix / pit bull mix    2029\n",
       "labrador retriever crossbreed           1864\n",
       "beagle                                  1438\n",
       "pomeranian                              1422\n",
       "Name: Primary_Breed, dtype: int64"
      ]
     },
     "execution_count": 458,
     "metadata": {},
     "output_type": "execute_result"
    }
   ],
   "source": [
    "# There were 12894 dogs whose breeds were unknown\n",
    "# Unknown values are now excluded by default after equal them to na_values\n",
    "df.Primary_Breed.str.lower().value_counts().head(10)"
   ]
  },
  {
   "cell_type": "markdown",
   "metadata": {},
   "source": [
    "## \"Unknown\" is a terrible breed! Graph the top 10 breeds that are NOT Unknown"
   ]
  },
  {
   "cell_type": "code",
   "execution_count": 333,
   "metadata": {},
   "outputs": [],
   "source": [
    "# already done above"
   ]
  },
  {
   "cell_type": "markdown",
   "metadata": {},
   "source": [
    "## What are the most popular dog names?"
   ]
  },
  {
   "cell_type": "code",
   "execution_count": 334,
   "metadata": {
    "scrolled": false
   },
   "outputs": [
    {
     "data": {
      "text/plain": [
       "bella      667\n",
       "max        652\n",
       "charlie    499\n",
       "lola       468\n",
       "rocky      444\n",
       "coco       444\n",
       "lucy       406\n",
       "buddy      379\n",
       "lucky      372\n",
       "daisy      359\n",
       "Name: Animal_Name, dtype: int64"
      ]
     },
     "execution_count": 334,
     "metadata": {},
     "output_type": "execute_result"
    }
   ],
   "source": [
    "df.Animal_Name.str.lower().value_counts().head(10)"
   ]
  },
  {
   "cell_type": "markdown",
   "metadata": {},
   "source": [
    "## Do any dogs have your name? How many dogs are named \"Max,\" and how many are named \"Maxwell\"?"
   ]
  },
  {
   "cell_type": "code",
   "execution_count": 459,
   "metadata": {},
   "outputs": [
    {
     "data": {
      "text/html": [
       "<div>\n",
       "<style scoped>\n",
       "    .dataframe tbody tr th:only-of-type {\n",
       "        vertical-align: middle;\n",
       "    }\n",
       "\n",
       "    .dataframe tbody tr th {\n",
       "        vertical-align: top;\n",
       "    }\n",
       "\n",
       "    .dataframe thead th {\n",
       "        text-align: right;\n",
       "    }\n",
       "</style>\n",
       "<table border=\"1\" class=\"dataframe\">\n",
       "  <thead>\n",
       "    <tr style=\"text-align: right;\">\n",
       "      <th></th>\n",
       "      <th>Owner_Zip_Code</th>\n",
       "      <th>Animal_Name</th>\n",
       "      <th>Animal_Gender</th>\n",
       "      <th>Primary_Breed</th>\n",
       "      <th>Secondary_Breed</th>\n",
       "      <th>Animal_Dominant_Color</th>\n",
       "      <th>Animal_Secondary_Color</th>\n",
       "      <th>Animal_Third_Color</th>\n",
       "      <th>Animal_Birth</th>\n",
       "      <th>Spayed_or_Neut</th>\n",
       "      <th>Guard_or_Trained</th>\n",
       "      <th>Vaccinated</th>\n",
       "      <th>Application_Date</th>\n",
       "      <th>License_Issued_Date</th>\n",
       "      <th>License_Expired_Date</th>\n",
       "    </tr>\n",
       "  </thead>\n",
       "  <tbody>\n",
       "  </tbody>\n",
       "</table>\n",
       "</div>"
      ],
      "text/plain": [
       "Empty DataFrame\n",
       "Columns: [Owner_Zip_Code, Animal_Name, Animal_Gender, Primary_Breed, Secondary_Breed, Animal_Dominant_Color, Animal_Secondary_Color, Animal_Third_Color, Animal_Birth, Spayed_or_Neut, Guard_or_Trained, Vaccinated, Application_Date, License_Issued_Date, License_Expired_Date]\n",
       "Index: []"
      ]
     },
     "execution_count": 459,
     "metadata": {},
     "output_type": "execute_result"
    }
   ],
   "source": [
    "# Not a single dog has my name\n",
    "df[\"Animal_Name\"] = df[\"Animal_Name\"].str.lower()\n",
    "df[df.Animal_Name == 'patricia']"
   ]
  },
  {
   "cell_type": "code",
   "execution_count": 460,
   "metadata": {
    "scrolled": true
   },
   "outputs": [
    {
     "data": {
      "text/plain": [
       "(652, 15)"
      ]
     },
     "execution_count": 460,
     "metadata": {},
     "output_type": "execute_result"
    }
   ],
   "source": [
    "# 652 dogs are called Max\n",
    "dogs_max = df[df.Animal_Name == 'max']\n",
    "dogs_max.shape"
   ]
  },
  {
   "cell_type": "code",
   "execution_count": 461,
   "metadata": {},
   "outputs": [
    {
     "data": {
      "text/plain": [
       "(37, 15)"
      ]
     },
     "execution_count": 461,
     "metadata": {},
     "output_type": "execute_result"
    }
   ],
   "source": [
    "# 37 dogs are called Maxwell\n",
    "dogs_maxwell = df[df.Animal_Name == 'maxwell']\n",
    "dogs_maxwell.shape"
   ]
  },
  {
   "cell_type": "markdown",
   "metadata": {},
   "source": [
    "## What percentage of dogs are guard dogs?\n",
    "\n",
    "Check out the documentation for [value counts](https://pandas.pydata.org/pandas-docs/stable/generated/pandas.Series.value_counts.html)."
   ]
  },
  {
   "cell_type": "code",
   "execution_count": 462,
   "metadata": {},
   "outputs": [
    {
     "data": {
      "text/plain": [
       "No     99.897128\n",
       "Yes     0.102872\n",
       "Name: Guard_or_Trained, dtype: float64"
      ]
     },
     "execution_count": 462,
     "metadata": {},
     "output_type": "execute_result"
    }
   ],
   "source": [
    "# only 0.1 %\n",
    "df['Guard_or_Trained'].value_counts(normalize=True) * 100"
   ]
  },
  {
   "cell_type": "markdown",
   "metadata": {},
   "source": [
    "## What are the actual numbers?"
   ]
  },
  {
   "cell_type": "code",
   "execution_count": 463,
   "metadata": {},
   "outputs": [
    {
     "data": {
      "text/plain": [
       "no     49525\n",
       "yes       51\n",
       "Name: Guard_or_Trained, dtype: int64"
      ]
     },
     "execution_count": 463,
     "metadata": {},
     "output_type": "execute_result"
    }
   ],
   "source": [
    "# 49,525 non-guard dogs vs 51\n",
    "df.Guard_or_Trained.str.lower().value_counts()"
   ]
  },
  {
   "cell_type": "markdown",
   "metadata": {},
   "source": [
    "## Wait... if you add that up, is it the same as your number of rows? Where are the other dogs???? How can we find them??????\n",
    "\n",
    "Use your `.head()` to think about it, then you'll do some magic with `.value_counts()`"
   ]
  },
  {
   "cell_type": "code",
   "execution_count": 464,
   "metadata": {},
   "outputs": [
    {
     "data": {
      "text/plain": [
       "no     49525\n",
       "NaN    32361\n",
       "yes       51\n",
       "Name: Guard_or_Trained, dtype: int64"
      ]
     },
     "execution_count": 464,
     "metadata": {},
     "output_type": "execute_result"
    }
   ],
   "source": [
    "df.Guard_or_Trained.str.lower().value_counts(dropna=False)"
   ]
  },
  {
   "cell_type": "markdown",
   "metadata": {},
   "source": [
    "## Fill in all of those empty \"Guard or Trained\" columns with \"No\"\n",
    "\n",
    "Then check your result with another `.value_counts()`"
   ]
  },
  {
   "cell_type": "code",
   "execution_count": 465,
   "metadata": {},
   "outputs": [
    {
     "data": {
      "text/plain": [
       "No     81886\n",
       "Yes       51\n",
       "Name: Guard_or_Trained, dtype: int64"
      ]
     },
     "execution_count": 465,
     "metadata": {},
     "output_type": "execute_result"
    }
   ],
   "source": [
    "df.Guard_or_Trained = df.Guard_or_Trained.replace({\n",
    "    np.nan: 'No',\n",
    "    'no': 'No',\n",
    "    'yes': 'Yes'\n",
    "})\n",
    "df.Guard_or_Trained.value_counts()"
   ]
  },
  {
   "cell_type": "markdown",
   "metadata": {},
   "source": [
    "## What are the top dog breeds for guard dogs? "
   ]
  },
  {
   "cell_type": "code",
   "execution_count": 466,
   "metadata": {
    "scrolled": true
   },
   "outputs": [
    {
     "data": {
      "text/plain": [
       "German Shepherd Dog                     4\n",
       "Chihuahua                               3\n",
       "Labrador Retriever                      3\n",
       "Rottweiler                              3\n",
       "American Pit Bull Mix / Pit Bull Mix    3\n",
       "Shih Tzu                                2\n",
       "Staffordshire Bull Terrier              2\n",
       "Poodle, Standard                        1\n",
       "Beagle Crossbreed                       1\n",
       "Weimaraner                              1\n",
       "Name: Primary_Breed, dtype: int64"
      ]
     },
     "execution_count": 466,
     "metadata": {},
     "output_type": "execute_result"
    }
   ],
   "source": [
    "df.Primary_Breed[df.Guard_or_Trained == 'Yes'].value_counts().head(10)"
   ]
  },
  {
   "cell_type": "markdown",
   "metadata": {},
   "source": [
    "## Create a new column called \"year\" that is the dog's year of birth\n",
    "\n",
    "The `Animal Birth` column is a datetime, so you can get the year out of it with the code `df['Animal Birth'].apply(lambda birth: birth.year)`."
   ]
  },
  {
   "cell_type": "code",
   "execution_count": 469,
   "metadata": {
    "scrolled": false
   },
   "outputs": [
    {
     "data": {
      "text/html": [
       "<div>\n",
       "<style scoped>\n",
       "    .dataframe tbody tr th:only-of-type {\n",
       "        vertical-align: middle;\n",
       "    }\n",
       "\n",
       "    .dataframe tbody tr th {\n",
       "        vertical-align: top;\n",
       "    }\n",
       "\n",
       "    .dataframe thead th {\n",
       "        text-align: right;\n",
       "    }\n",
       "</style>\n",
       "<table border=\"1\" class=\"dataframe\">\n",
       "  <thead>\n",
       "    <tr style=\"text-align: right;\">\n",
       "      <th></th>\n",
       "      <th>Owner_Zip_Code</th>\n",
       "      <th>Animal_Name</th>\n",
       "      <th>Animal_Gender</th>\n",
       "      <th>Primary_Breed</th>\n",
       "      <th>Secondary_Breed</th>\n",
       "      <th>Animal_Dominant_Color</th>\n",
       "      <th>Animal_Secondary_Color</th>\n",
       "      <th>Animal_Third_Color</th>\n",
       "      <th>Animal_Birth</th>\n",
       "      <th>Spayed_or_Neut</th>\n",
       "      <th>Guard_or_Trained</th>\n",
       "      <th>Vaccinated</th>\n",
       "      <th>Application_Date</th>\n",
       "      <th>License_Issued_Date</th>\n",
       "      <th>License_Expired_Date</th>\n",
       "      <th>Year</th>\n",
       "    </tr>\n",
       "  </thead>\n",
       "  <tbody>\n",
       "    <tr>\n",
       "      <th>0</th>\n",
       "      <td>10024</td>\n",
       "      <td>blue mack</td>\n",
       "      <td>M</td>\n",
       "      <td>NaN</td>\n",
       "      <td>AIREDALE TERR</td>\n",
       "      <td>BROWN</td>\n",
       "      <td>BLACK</td>\n",
       "      <td>NaN</td>\n",
       "      <td>2007-11-01</td>\n",
       "      <td>Yes</td>\n",
       "      <td>No</td>\n",
       "      <td>Yes</td>\n",
       "      <td>2012-09-19 16:01:19.647</td>\n",
       "      <td>2015-09-19</td>\n",
       "      <td>2016-09-19</td>\n",
       "      <td>2007</td>\n",
       "    </tr>\n",
       "    <tr>\n",
       "      <th>1</th>\n",
       "      <td>10461</td>\n",
       "      <td>indie zephir</td>\n",
       "      <td>M</td>\n",
       "      <td>Rottweiler</td>\n",
       "      <td>NaN</td>\n",
       "      <td>BLACK</td>\n",
       "      <td>TAN</td>\n",
       "      <td>NaN</td>\n",
       "      <td>2013-04-01</td>\n",
       "      <td>No</td>\n",
       "      <td>No</td>\n",
       "      <td>Yes</td>\n",
       "      <td>2013-09-20 11:41:36.647</td>\n",
       "      <td>2014-09-20</td>\n",
       "      <td>2018-09-20</td>\n",
       "      <td>2013</td>\n",
       "    </tr>\n",
       "    <tr>\n",
       "      <th>2</th>\n",
       "      <td>10013</td>\n",
       "      <td>bilal</td>\n",
       "      <td>M</td>\n",
       "      <td>Australian Cattledog</td>\n",
       "      <td>NaN</td>\n",
       "      <td>Rust</td>\n",
       "      <td>NaN</td>\n",
       "      <td>NaN</td>\n",
       "      <td>2014-09-01</td>\n",
       "      <td>Yes</td>\n",
       "      <td>No</td>\n",
       "      <td>No</td>\n",
       "      <td>2014-09-12 13:13:36.713</td>\n",
       "      <td>2014-09-12</td>\n",
       "      <td>2019-09-12</td>\n",
       "      <td>2014</td>\n",
       "    </tr>\n",
       "    <tr>\n",
       "      <th>3</th>\n",
       "      <td>10025</td>\n",
       "      <td>buddy</td>\n",
       "      <td>M</td>\n",
       "      <td>NaN</td>\n",
       "      <td>Cockapoo</td>\n",
       "      <td>BLOND</td>\n",
       "      <td>WHITE</td>\n",
       "      <td>NaN</td>\n",
       "      <td>2008-04-01</td>\n",
       "      <td>Yes</td>\n",
       "      <td>No</td>\n",
       "      <td>Yes</td>\n",
       "      <td>2014-09-12 15:26:51.417</td>\n",
       "      <td>2014-09-12</td>\n",
       "      <td>2017-10-20</td>\n",
       "      <td>2008</td>\n",
       "    </tr>\n",
       "    <tr>\n",
       "      <th>4</th>\n",
       "      <td>10013</td>\n",
       "      <td>ali</td>\n",
       "      <td>M</td>\n",
       "      <td>Basenji</td>\n",
       "      <td>NaN</td>\n",
       "      <td>Black</td>\n",
       "      <td>NaN</td>\n",
       "      <td>NaN</td>\n",
       "      <td>2014-01-01</td>\n",
       "      <td>No</td>\n",
       "      <td>No</td>\n",
       "      <td>No</td>\n",
       "      <td>2014-09-12 15:43:17.707</td>\n",
       "      <td>2014-09-12</td>\n",
       "      <td>2019-09-12</td>\n",
       "      <td>2014</td>\n",
       "    </tr>\n",
       "    <tr>\n",
       "      <th>5</th>\n",
       "      <td>10013</td>\n",
       "      <td>queen</td>\n",
       "      <td>F</td>\n",
       "      <td>Akita Crossbreed</td>\n",
       "      <td>NaN</td>\n",
       "      <td>Charcoal</td>\n",
       "      <td>Red</td>\n",
       "      <td>NaN</td>\n",
       "      <td>2013-04-01</td>\n",
       "      <td>No</td>\n",
       "      <td>No</td>\n",
       "      <td>Yes</td>\n",
       "      <td>2014-09-12 16:14:48.487</td>\n",
       "      <td>2014-09-12</td>\n",
       "      <td>2017-09-12</td>\n",
       "      <td>2013</td>\n",
       "    </tr>\n",
       "    <tr>\n",
       "      <th>6</th>\n",
       "      <td>10035</td>\n",
       "      <td>paige sable orta</td>\n",
       "      <td>F</td>\n",
       "      <td>American Pit Bull Mix / Pit Bull Mix</td>\n",
       "      <td>NaN</td>\n",
       "      <td>White</td>\n",
       "      <td>Gray</td>\n",
       "      <td>NaN</td>\n",
       "      <td>2014-07-01</td>\n",
       "      <td>No</td>\n",
       "      <td>No</td>\n",
       "      <td>No</td>\n",
       "      <td>2014-09-12 16:22:54.113</td>\n",
       "      <td>2014-09-12</td>\n",
       "      <td>2017-09-12</td>\n",
       "      <td>2014</td>\n",
       "    </tr>\n",
       "    <tr>\n",
       "      <th>7</th>\n",
       "      <td>10465</td>\n",
       "      <td>yogi</td>\n",
       "      <td>M</td>\n",
       "      <td>Boxer</td>\n",
       "      <td>NaN</td>\n",
       "      <td>TAN</td>\n",
       "      <td>BLACK</td>\n",
       "      <td>NaN</td>\n",
       "      <td>2010-09-01</td>\n",
       "      <td>Yes</td>\n",
       "      <td>No</td>\n",
       "      <td>Yes</td>\n",
       "      <td>2014-09-12 16:47:35.317</td>\n",
       "      <td>2014-09-12</td>\n",
       "      <td>2017-10-02</td>\n",
       "      <td>2010</td>\n",
       "    </tr>\n",
       "    <tr>\n",
       "      <th>8</th>\n",
       "      <td>10013</td>\n",
       "      <td>chewbacca</td>\n",
       "      <td>F</td>\n",
       "      <td>Labrador Retriever Crossbreed</td>\n",
       "      <td>NaN</td>\n",
       "      <td>RED</td>\n",
       "      <td>NaN</td>\n",
       "      <td>NaN</td>\n",
       "      <td>2012-06-01</td>\n",
       "      <td>Yes</td>\n",
       "      <td>No</td>\n",
       "      <td>Yes</td>\n",
       "      <td>2014-09-12 17:42:56.647</td>\n",
       "      <td>2014-09-12</td>\n",
       "      <td>2019-10-01</td>\n",
       "      <td>2012</td>\n",
       "    </tr>\n",
       "    <tr>\n",
       "      <th>9</th>\n",
       "      <td>10013</td>\n",
       "      <td>ian</td>\n",
       "      <td>M</td>\n",
       "      <td>NaN</td>\n",
       "      <td>GREYHOUND TER X</td>\n",
       "      <td>WHITE</td>\n",
       "      <td>BLACK</td>\n",
       "      <td>NaN</td>\n",
       "      <td>2006-01-01</td>\n",
       "      <td>Yes</td>\n",
       "      <td>No</td>\n",
       "      <td>Yes</td>\n",
       "      <td>2014-09-12 19:09:19.020</td>\n",
       "      <td>2014-09-12</td>\n",
       "      <td>2019-10-30</td>\n",
       "      <td>2006</td>\n",
       "    </tr>\n",
       "  </tbody>\n",
       "</table>\n",
       "</div>"
      ],
      "text/plain": [
       "   Owner_Zip_Code       Animal_Name Animal_Gender  \\\n",
       "0           10024         blue mack             M   \n",
       "1           10461      indie zephir             M   \n",
       "2           10013             bilal             M   \n",
       "3           10025             buddy             M   \n",
       "4           10013               ali             M   \n",
       "5           10013             queen             F   \n",
       "6           10035  paige sable orta             F   \n",
       "7           10465              yogi             M   \n",
       "8           10013         chewbacca             F   \n",
       "9           10013        ian                    M   \n",
       "\n",
       "                          Primary_Breed  Secondary_Breed  \\\n",
       "0                                   NaN    AIREDALE TERR   \n",
       "1                            Rottweiler              NaN   \n",
       "2                  Australian Cattledog              NaN   \n",
       "3                                   NaN         Cockapoo   \n",
       "4                               Basenji              NaN   \n",
       "5                      Akita Crossbreed              NaN   \n",
       "6  American Pit Bull Mix / Pit Bull Mix              NaN   \n",
       "7                                 Boxer              NaN   \n",
       "8         Labrador Retriever Crossbreed              NaN   \n",
       "9                                   NaN  GREYHOUND TER X   \n",
       "\n",
       "  Animal_Dominant_Color Animal_Secondary_Color Animal_Third_Color  \\\n",
       "0                 BROWN                  BLACK                NaN   \n",
       "1                 BLACK                    TAN                NaN   \n",
       "2                  Rust                    NaN                NaN   \n",
       "3                 BLOND                  WHITE                NaN   \n",
       "4                 Black                    NaN                NaN   \n",
       "5              Charcoal                    Red                NaN   \n",
       "6                 White                   Gray                NaN   \n",
       "7                   TAN                  BLACK                NaN   \n",
       "8                   RED                    NaN                NaN   \n",
       "9                 WHITE                  BLACK                NaN   \n",
       "\n",
       "  Animal_Birth Spayed_or_Neut Guard_or_Trained Vaccinated  \\\n",
       "0   2007-11-01            Yes               No        Yes   \n",
       "1   2013-04-01             No               No        Yes   \n",
       "2   2014-09-01            Yes               No         No   \n",
       "3   2008-04-01            Yes               No        Yes   \n",
       "4   2014-01-01             No               No         No   \n",
       "5   2013-04-01             No               No        Yes   \n",
       "6   2014-07-01             No               No         No   \n",
       "7   2010-09-01            Yes               No        Yes   \n",
       "8   2012-06-01            Yes               No        Yes   \n",
       "9   2006-01-01            Yes               No        Yes   \n",
       "\n",
       "         Application_Date License_Issued_Date License_Expired_Date  Year  \n",
       "0 2012-09-19 16:01:19.647          2015-09-19           2016-09-19  2007  \n",
       "1 2013-09-20 11:41:36.647          2014-09-20           2018-09-20  2013  \n",
       "2 2014-09-12 13:13:36.713          2014-09-12           2019-09-12  2014  \n",
       "3 2014-09-12 15:26:51.417          2014-09-12           2017-10-20  2008  \n",
       "4 2014-09-12 15:43:17.707          2014-09-12           2019-09-12  2014  \n",
       "5 2014-09-12 16:14:48.487          2014-09-12           2017-09-12  2013  \n",
       "6 2014-09-12 16:22:54.113          2014-09-12           2017-09-12  2014  \n",
       "7 2014-09-12 16:47:35.317          2014-09-12           2017-10-02  2010  \n",
       "8 2014-09-12 17:42:56.647          2014-09-12           2019-10-01  2012  \n",
       "9 2014-09-12 19:09:19.020          2014-09-12           2019-10-30  2006  "
      ]
     },
     "execution_count": 469,
     "metadata": {},
     "output_type": "execute_result"
    }
   ],
   "source": [
    "df['Year'] = df['Animal_Birth'].apply(lambda birth: birth.year)\n",
    "df.head(10)"
   ]
  },
  {
   "cell_type": "markdown",
   "metadata": {},
   "source": [
    "## Calculate a new column called “age” that shows approximately how old the dog is. How old are dogs on average?"
   ]
  },
  {
   "cell_type": "code",
   "execution_count": 470,
   "metadata": {
    "scrolled": true
   },
   "outputs": [
    {
     "data": {
      "text/plain": [
       "11.341848005174707"
      ]
     },
     "execution_count": 470,
     "metadata": {},
     "output_type": "execute_result"
    }
   ],
   "source": [
    "df['Age'] = 2021 - df['Year']\n",
    "#df.head(10)\n",
    "df.Age.mean()\n",
    "#On average these dogs are over 11 years old"
   ]
  },
  {
   "cell_type": "markdown",
   "metadata": {},
   "source": [
    "# Joining data together"
   ]
  },
  {
   "cell_type": "markdown",
   "metadata": {},
   "source": [
    "## Which neighborhood does each dog live in?\n",
    "\n",
    "You also have a (terrible) list of NYC neighborhoods in `zipcodes-neighborhoods.csv`. Join these two datasets together, so we know what neighborhood each dog lives in. **Be sure to not read it in as `df`, or else you'll overwrite your dogs dataframe.**"
   ]
  },
  {
   "cell_type": "code",
   "execution_count": 473,
   "metadata": {
    "scrolled": true
   },
   "outputs": [],
   "source": [
    "hoods = pd.read_csv(\"zipcodes-neighborhoods.csv\")\n",
    "hoods.rename(columns={'zip': 'Owner_Zip_Code'}, inplace=True)\n",
    "#hoods"
   ]
  },
  {
   "cell_type": "code",
   "execution_count": 474,
   "metadata": {
    "scrolled": true
   },
   "outputs": [
    {
     "data": {
      "text/html": [
       "<div>\n",
       "<style scoped>\n",
       "    .dataframe tbody tr th:only-of-type {\n",
       "        vertical-align: middle;\n",
       "    }\n",
       "\n",
       "    .dataframe tbody tr th {\n",
       "        vertical-align: top;\n",
       "    }\n",
       "\n",
       "    .dataframe thead th {\n",
       "        text-align: right;\n",
       "    }\n",
       "</style>\n",
       "<table border=\"1\" class=\"dataframe\">\n",
       "  <thead>\n",
       "    <tr style=\"text-align: right;\">\n",
       "      <th></th>\n",
       "      <th>Owner_Zip_Code</th>\n",
       "      <th>Animal_Name</th>\n",
       "      <th>Animal_Gender</th>\n",
       "      <th>Primary_Breed</th>\n",
       "      <th>Secondary_Breed</th>\n",
       "      <th>Animal_Dominant_Color</th>\n",
       "      <th>Animal_Secondary_Color</th>\n",
       "      <th>Animal_Third_Color</th>\n",
       "      <th>Animal_Birth</th>\n",
       "      <th>Spayed_or_Neut</th>\n",
       "      <th>Guard_or_Trained</th>\n",
       "      <th>Vaccinated</th>\n",
       "      <th>Application_Date</th>\n",
       "      <th>License_Issued_Date</th>\n",
       "      <th>License_Expired_Date</th>\n",
       "      <th>Year</th>\n",
       "      <th>Age</th>\n",
       "      <th>neighborhood</th>\n",
       "      <th>borough</th>\n",
       "    </tr>\n",
       "  </thead>\n",
       "  <tbody>\n",
       "    <tr>\n",
       "      <th>0</th>\n",
       "      <td>10024</td>\n",
       "      <td>blue mack</td>\n",
       "      <td>M</td>\n",
       "      <td>NaN</td>\n",
       "      <td>AIREDALE TERR</td>\n",
       "      <td>BROWN</td>\n",
       "      <td>BLACK</td>\n",
       "      <td>NaN</td>\n",
       "      <td>2007-11-01</td>\n",
       "      <td>Yes</td>\n",
       "      <td>No</td>\n",
       "      <td>Yes</td>\n",
       "      <td>2012-09-19 16:01:19.647</td>\n",
       "      <td>2015-09-19</td>\n",
       "      <td>2016-09-19</td>\n",
       "      <td>2007</td>\n",
       "      <td>14</td>\n",
       "      <td>Upper West Side</td>\n",
       "      <td>Manhattan</td>\n",
       "    </tr>\n",
       "    <tr>\n",
       "      <th>1</th>\n",
       "      <td>10024</td>\n",
       "      <td>louie</td>\n",
       "      <td>M</td>\n",
       "      <td>NaN</td>\n",
       "      <td>Coonhound</td>\n",
       "      <td>Black</td>\n",
       "      <td>White</td>\n",
       "      <td>Brown</td>\n",
       "      <td>2008-05-01</td>\n",
       "      <td>Yes</td>\n",
       "      <td>No</td>\n",
       "      <td>Yes</td>\n",
       "      <td>2014-09-15 16:36:20.200</td>\n",
       "      <td>2014-09-15</td>\n",
       "      <td>2017-09-03</td>\n",
       "      <td>2008</td>\n",
       "      <td>13</td>\n",
       "      <td>Upper West Side</td>\n",
       "      <td>Manhattan</td>\n",
       "    </tr>\n",
       "    <tr>\n",
       "      <th>2</th>\n",
       "      <td>10024</td>\n",
       "      <td>tosha</td>\n",
       "      <td>F</td>\n",
       "      <td>Collie, Smooth Coat</td>\n",
       "      <td>NaN</td>\n",
       "      <td>BLUE MERLE</td>\n",
       "      <td>WHITE</td>\n",
       "      <td>TAN</td>\n",
       "      <td>2011-12-01</td>\n",
       "      <td>Yes</td>\n",
       "      <td>No</td>\n",
       "      <td>Yes</td>\n",
       "      <td>2014-09-16 10:22:07.867</td>\n",
       "      <td>2014-09-16</td>\n",
       "      <td>2017-10-11</td>\n",
       "      <td>2011</td>\n",
       "      <td>10</td>\n",
       "      <td>Upper West Side</td>\n",
       "      <td>Manhattan</td>\n",
       "    </tr>\n",
       "    <tr>\n",
       "      <th>3</th>\n",
       "      <td>10024</td>\n",
       "      <td>poppett</td>\n",
       "      <td>F</td>\n",
       "      <td>Dachshund, Long Haired Miniature</td>\n",
       "      <td>NaN</td>\n",
       "      <td>Black</td>\n",
       "      <td>Brown</td>\n",
       "      <td>Silver</td>\n",
       "      <td>2011-02-01</td>\n",
       "      <td>Yes</td>\n",
       "      <td>No</td>\n",
       "      <td>Yes</td>\n",
       "      <td>2014-09-18 16:25:57.323</td>\n",
       "      <td>2014-09-18</td>\n",
       "      <td>2019-09-18</td>\n",
       "      <td>2011</td>\n",
       "      <td>10</td>\n",
       "      <td>Upper West Side</td>\n",
       "      <td>Manhattan</td>\n",
       "    </tr>\n",
       "    <tr>\n",
       "      <th>4</th>\n",
       "      <td>10024</td>\n",
       "      <td>harlen</td>\n",
       "      <td>M</td>\n",
       "      <td>NaN</td>\n",
       "      <td>Plott Hound</td>\n",
       "      <td>BLACK</td>\n",
       "      <td>TAN</td>\n",
       "      <td>BROWN</td>\n",
       "      <td>2007-05-01</td>\n",
       "      <td>Yes</td>\n",
       "      <td>No</td>\n",
       "      <td>Yes</td>\n",
       "      <td>2014-09-25 17:11:20.713</td>\n",
       "      <td>2014-09-25</td>\n",
       "      <td>2016-08-20</td>\n",
       "      <td>2007</td>\n",
       "      <td>14</td>\n",
       "      <td>Upper West Side</td>\n",
       "      <td>Manhattan</td>\n",
       "    </tr>\n",
       "    <tr>\n",
       "      <th>...</th>\n",
       "      <td>...</td>\n",
       "      <td>...</td>\n",
       "      <td>...</td>\n",
       "      <td>...</td>\n",
       "      <td>...</td>\n",
       "      <td>...</td>\n",
       "      <td>...</td>\n",
       "      <td>...</td>\n",
       "      <td>...</td>\n",
       "      <td>...</td>\n",
       "      <td>...</td>\n",
       "      <td>...</td>\n",
       "      <td>...</td>\n",
       "      <td>...</td>\n",
       "      <td>...</td>\n",
       "      <td>...</td>\n",
       "      <td>...</td>\n",
       "      <td>...</td>\n",
       "      <td>...</td>\n",
       "    </tr>\n",
       "    <tr>\n",
       "      <th>80854</th>\n",
       "      <td>11005</td>\n",
       "      <td>bichon</td>\n",
       "      <td>F</td>\n",
       "      <td>Bichon Frise</td>\n",
       "      <td>NaN</td>\n",
       "      <td>White</td>\n",
       "      <td>NaN</td>\n",
       "      <td>NaN</td>\n",
       "      <td>2015-05-01</td>\n",
       "      <td>No</td>\n",
       "      <td>No</td>\n",
       "      <td>No</td>\n",
       "      <td>2015-08-06 18:46:01.953</td>\n",
       "      <td>2015-08-06</td>\n",
       "      <td>2016-08-06</td>\n",
       "      <td>2015</td>\n",
       "      <td>6</td>\n",
       "      <td>Southeast Queens</td>\n",
       "      <td>Queens</td>\n",
       "    </tr>\n",
       "    <tr>\n",
       "      <th>80855</th>\n",
       "      <td>10020</td>\n",
       "      <td>fantastic</td>\n",
       "      <td>F</td>\n",
       "      <td>NaN</td>\n",
       "      <td>Whippet/Jack Russell Mix</td>\n",
       "      <td>WHITE</td>\n",
       "      <td>NaN</td>\n",
       "      <td>NaN</td>\n",
       "      <td>2012-01-01</td>\n",
       "      <td>Yes</td>\n",
       "      <td>No</td>\n",
       "      <td>No</td>\n",
       "      <td>2015-12-01 15:07:00.293</td>\n",
       "      <td>2015-12-01</td>\n",
       "      <td>2016-12-26</td>\n",
       "      <td>2012</td>\n",
       "      <td>9</td>\n",
       "      <td>Chelsea and Clinton</td>\n",
       "      <td>Manhattan</td>\n",
       "    </tr>\n",
       "    <tr>\n",
       "      <th>80856</th>\n",
       "      <td>10020</td>\n",
       "      <td>dexter</td>\n",
       "      <td>M</td>\n",
       "      <td>Golden Retriever</td>\n",
       "      <td>NaN</td>\n",
       "      <td>GOLD</td>\n",
       "      <td>WHITE</td>\n",
       "      <td>NaN</td>\n",
       "      <td>2010-08-01</td>\n",
       "      <td>Yes</td>\n",
       "      <td>No</td>\n",
       "      <td>Yes</td>\n",
       "      <td>2016-02-26 16:10:43.557</td>\n",
       "      <td>2016-02-26</td>\n",
       "      <td>2017-04-25</td>\n",
       "      <td>2010</td>\n",
       "      <td>11</td>\n",
       "      <td>Chelsea and Clinton</td>\n",
       "      <td>Manhattan</td>\n",
       "    </tr>\n",
       "    <tr>\n",
       "      <th>80857</th>\n",
       "      <td>10020</td>\n",
       "      <td>ella</td>\n",
       "      <td>F</td>\n",
       "      <td>Havanese</td>\n",
       "      <td>NaN</td>\n",
       "      <td>Black</td>\n",
       "      <td>White</td>\n",
       "      <td>NaN</td>\n",
       "      <td>2015-02-01</td>\n",
       "      <td>Yes</td>\n",
       "      <td>No</td>\n",
       "      <td>Yes</td>\n",
       "      <td>2016-03-22 15:31:09.393</td>\n",
       "      <td>2016-03-22</td>\n",
       "      <td>2017-05-08</td>\n",
       "      <td>2015</td>\n",
       "      <td>6</td>\n",
       "      <td>Chelsea and Clinton</td>\n",
       "      <td>Manhattan</td>\n",
       "    </tr>\n",
       "    <tr>\n",
       "      <th>80858</th>\n",
       "      <td>10020</td>\n",
       "      <td>nicolette</td>\n",
       "      <td>F</td>\n",
       "      <td>NaN</td>\n",
       "      <td>COCK-A-POO</td>\n",
       "      <td>TAN</td>\n",
       "      <td>NaN</td>\n",
       "      <td>NaN</td>\n",
       "      <td>2006-01-01</td>\n",
       "      <td>Yes</td>\n",
       "      <td>No</td>\n",
       "      <td>Yes</td>\n",
       "      <td>2016-03-29 10:40:46.867</td>\n",
       "      <td>2016-03-29</td>\n",
       "      <td>2017-05-30</td>\n",
       "      <td>2006</td>\n",
       "      <td>15</td>\n",
       "      <td>Chelsea and Clinton</td>\n",
       "      <td>Manhattan</td>\n",
       "    </tr>\n",
       "  </tbody>\n",
       "</table>\n",
       "<p>80859 rows × 19 columns</p>\n",
       "</div>"
      ],
      "text/plain": [
       "       Owner_Zip_Code Animal_Name Animal_Gender  \\\n",
       "0               10024   blue mack             M   \n",
       "1               10024       louie             M   \n",
       "2               10024       tosha             F   \n",
       "3               10024     poppett             F   \n",
       "4               10024      harlen             M   \n",
       "...               ...         ...           ...   \n",
       "80854           11005      bichon             F   \n",
       "80855           10020   fantastic             F   \n",
       "80856           10020      dexter             M   \n",
       "80857           10020        ella             F   \n",
       "80858           10020  nicolette              F   \n",
       "\n",
       "                          Primary_Breed           Secondary_Breed  \\\n",
       "0                                   NaN             AIREDALE TERR   \n",
       "1                                   NaN                 Coonhound   \n",
       "2                   Collie, Smooth Coat                       NaN   \n",
       "3      Dachshund, Long Haired Miniature                       NaN   \n",
       "4                                   NaN               Plott Hound   \n",
       "...                                 ...                       ...   \n",
       "80854                      Bichon Frise                       NaN   \n",
       "80855                               NaN  Whippet/Jack Russell Mix   \n",
       "80856                  Golden Retriever                       NaN   \n",
       "80857                          Havanese                       NaN   \n",
       "80858                               NaN           COCK-A-POO        \n",
       "\n",
       "      Animal_Dominant_Color Animal_Secondary_Color Animal_Third_Color  \\\n",
       "0                     BROWN                  BLACK                NaN   \n",
       "1                     Black                  White              Brown   \n",
       "2                BLUE MERLE                  WHITE                TAN   \n",
       "3                     Black                  Brown             Silver   \n",
       "4                     BLACK                    TAN              BROWN   \n",
       "...                     ...                    ...                ...   \n",
       "80854                 White                    NaN                NaN   \n",
       "80855                 WHITE                    NaN                NaN   \n",
       "80856                  GOLD                  WHITE                NaN   \n",
       "80857                 Black                  White                NaN   \n",
       "80858                   TAN                    NaN                NaN   \n",
       "\n",
       "      Animal_Birth Spayed_or_Neut Guard_or_Trained Vaccinated  \\\n",
       "0       2007-11-01            Yes               No        Yes   \n",
       "1       2008-05-01            Yes               No        Yes   \n",
       "2       2011-12-01            Yes               No        Yes   \n",
       "3       2011-02-01            Yes               No        Yes   \n",
       "4       2007-05-01            Yes               No        Yes   \n",
       "...            ...            ...              ...        ...   \n",
       "80854   2015-05-01             No               No         No   \n",
       "80855   2012-01-01            Yes               No         No   \n",
       "80856   2010-08-01            Yes               No        Yes   \n",
       "80857   2015-02-01            Yes               No        Yes   \n",
       "80858   2006-01-01            Yes               No        Yes   \n",
       "\n",
       "             Application_Date License_Issued_Date License_Expired_Date  Year  \\\n",
       "0     2012-09-19 16:01:19.647          2015-09-19           2016-09-19  2007   \n",
       "1     2014-09-15 16:36:20.200          2014-09-15           2017-09-03  2008   \n",
       "2     2014-09-16 10:22:07.867          2014-09-16           2017-10-11  2011   \n",
       "3     2014-09-18 16:25:57.323          2014-09-18           2019-09-18  2011   \n",
       "4     2014-09-25 17:11:20.713          2014-09-25           2016-08-20  2007   \n",
       "...                       ...                 ...                  ...   ...   \n",
       "80854 2015-08-06 18:46:01.953          2015-08-06           2016-08-06  2015   \n",
       "80855 2015-12-01 15:07:00.293          2015-12-01           2016-12-26  2012   \n",
       "80856 2016-02-26 16:10:43.557          2016-02-26           2017-04-25  2010   \n",
       "80857 2016-03-22 15:31:09.393          2016-03-22           2017-05-08  2015   \n",
       "80858 2016-03-29 10:40:46.867          2016-03-29           2017-05-30  2006   \n",
       "\n",
       "       Age         neighborhood    borough  \n",
       "0       14      Upper West Side  Manhattan  \n",
       "1       13      Upper West Side  Manhattan  \n",
       "2       10      Upper West Side  Manhattan  \n",
       "3       10      Upper West Side  Manhattan  \n",
       "4       14      Upper West Side  Manhattan  \n",
       "...    ...                  ...        ...  \n",
       "80854    6     Southeast Queens     Queens  \n",
       "80855    9  Chelsea and Clinton  Manhattan  \n",
       "80856   11  Chelsea and Clinton  Manhattan  \n",
       "80857    6  Chelsea and Clinton  Manhattan  \n",
       "80858   15  Chelsea and Clinton  Manhattan  \n",
       "\n",
       "[80859 rows x 19 columns]"
      ]
     },
     "execution_count": 474,
     "metadata": {},
     "output_type": "execute_result"
    }
   ],
   "source": [
    "merged_df = pd.merge(df, hoods, on=\"Owner_Zip_Code\")\n",
    "merged_df"
   ]
  },
  {
   "cell_type": "markdown",
   "metadata": {},
   "source": [
    "## What is the most popular dog name in all parts of the Bronx? How about Brooklyn? The Upper East Side?"
   ]
  },
  {
   "cell_type": "code",
   "execution_count": 477,
   "metadata": {
    "scrolled": false
   },
   "outputs": [
    {
     "data": {
      "text/plain": [
       "max        174\n",
       "bella      169\n",
       "rocky      123\n",
       "coco       120\n",
       "charlie    109\n",
       "Name: Animal_Name, dtype: int64"
      ]
     },
     "execution_count": 477,
     "metadata": {},
     "output_type": "execute_result"
    }
   ],
   "source": [
    "#merged_df.borough.value_counts().head(10)\n",
    "merged_df.Animal_Name[merged_df.borough == \"Queens\"].value_counts().head(5)"
   ]
  },
  {
   "cell_type": "code",
   "execution_count": 478,
   "metadata": {
    "scrolled": true
   },
   "outputs": [
    {
     "data": {
      "text/plain": [
       "max        151\n",
       "bella      148\n",
       "charlie    120\n",
       "lola       108\n",
       "rocky       96\n",
       "Name: Animal_Name, dtype: int64"
      ]
     },
     "execution_count": 478,
     "metadata": {},
     "output_type": "execute_result"
    }
   ],
   "source": [
    "merged_df.Animal_Name[merged_df.borough == \"Brooklyn\"].value_counts().head(5)"
   ]
  },
  {
   "cell_type": "code",
   "execution_count": 479,
   "metadata": {
    "scrolled": true
   },
   "outputs": [
    {
     "data": {
      "text/plain": [
       "lucy       47\n",
       "bella      35\n",
       "coco       34\n",
       "charlie    33\n",
       "lola       29\n",
       "Name: Animal_Name, dtype: int64"
      ]
     },
     "execution_count": 479,
     "metadata": {},
     "output_type": "execute_result"
    }
   ],
   "source": [
    "merged_df.Animal_Name[merged_df.neighborhood == \"Upper East Side\"].value_counts().head(5)"
   ]
  },
  {
   "cell_type": "markdown",
   "metadata": {},
   "source": [
    "## What is the most common dog breed in each of the neighborhoods of NYC?"
   ]
  },
  {
   "cell_type": "code",
   "execution_count": 506,
   "metadata": {},
   "outputs": [
    {
     "data": {
      "text/plain": [
       "neighborhood                   Primary_Breed                     \n",
       "Borough Park                   Yorkshire Terrier                     115\n",
       "Bronx Park and Fordham         Yorkshire Terrier                      88\n",
       "Bushwick and Williamsburg      Yorkshire Terrier                     135\n",
       "Canarsie and Flatlands         Yorkshire Terrier                     137\n",
       "Central Bronx                  Yorkshire Terrier                      82\n",
       "Central Brooklyn               Shih Tzu                              113\n",
       "Central Harlem                 Yorkshire Terrier                     132\n",
       "Central Queens                 Yorkshire Terrier                      67\n",
       "Chelsea and Clinton            Chihuahua                             210\n",
       "East Harlem                    Yorkshire Terrier                     129\n",
       "East New York and New Lots     American Pit Bull Terrier/Pit Bull     87\n",
       "Flatbush                       Shih Tzu                               78\n",
       "Gramercy Park and Murray Hill  Yorkshire Terrier                     142\n",
       "Greenpoint                     Chihuahua                              83\n",
       "Greenwich Village and Soho     Labrador Retriever                    126\n",
       "High Bridge and Morrisania     Yorkshire Terrier                      90\n",
       "Hunts Point and Mott Haven     Yorkshire Terrier                      95\n",
       "Inwood and Washington Heights  Yorkshire Terrier                     138\n",
       "Jamaica                        Yorkshire Terrier                     102\n",
       "Kingsbridge and Riverdale      Yorkshire Terrier                      69\n",
       "Lower East Side                Yorkshire Terrier                     180\n",
       "Lower Manhattan                Shih Tzu                               58\n",
       "Mid-Island                     Yorkshire Terrier                     100\n",
       "North Queens                   Maltese                               146\n",
       "Northeast Bronx                Yorkshire Terrier                      94\n",
       "Northeast Queens               Maltese                                62\n",
       "Northwest Brooklyn             Labrador Retriever                    194\n",
       "Northwest Queens               Chihuahua                             136\n",
       "Port Richmond                  Yorkshire Terrier                      62\n",
       "Rockaways                      Shih Tzu                               64\n",
       "South Shore                    Shih Tzu                              267\n",
       "Southeast Bronx                Shih Tzu                              245\n",
       "Southeast Queens               Yorkshire Terrier                      77\n",
       "Southern Brooklyn              Shih Tzu                              201\n",
       "Southwest Brooklyn             Shih Tzu                              181\n",
       "Southwest Queens               Yorkshire Terrier                     151\n",
       "Stapleton and St. George       Yorkshire Terrier                     100\n",
       "Sunset Park                    Yorkshire Terrier                      72\n",
       "Upper East Side                Shih Tzu                              246\n",
       "Upper West Side                Labrador Retriever                    295\n",
       "West Central Queens            Yorkshire Terrier                     184\n",
       "West Queens                    Shih Tzu                              218\n",
       "Name: Primary_Breed, dtype: int64"
      ]
     },
     "execution_count": 506,
     "metadata": {},
     "output_type": "execute_result"
    }
   ],
   "source": [
    "merged_popu.groupby('neighborhood').Primary_Breed.value_counts().groupby(level=0, group_keys=False).nlargest(1)"
   ]
  },
  {
   "cell_type": "markdown",
   "metadata": {},
   "source": [
    "## What breed of dogs are the least likely to be spayed? Male or female?"
   ]
  },
  {
   "cell_type": "code",
   "execution_count": 480,
   "metadata": {
    "scrolled": true
   },
   "outputs": [
    {
     "data": {
      "text/plain": [
       "Yorkshire Terrier                     1548\n",
       "Shih Tzu                              1121\n",
       "Maltese                                763\n",
       "Chihuahua                              736\n",
       "American Pit Bull Terrier/Pit Bull     525\n",
       "Name: Primary_Breed, dtype: int64"
      ]
     },
     "execution_count": 480,
     "metadata": {},
     "output_type": "execute_result"
    }
   ],
   "source": [
    "merged_df.Primary_Breed[merged_df.Spayed_or_Neut == 'No'].value_counts().head(5)"
   ]
  },
  {
   "cell_type": "markdown",
   "metadata": {},
   "source": [
    "## Make a new column called monochrome that is True for any animal that only has black, white or grey as one of its colors. How many animals are monochrome?"
   ]
  },
  {
   "cell_type": "code",
   "execution_count": 508,
   "metadata": {},
   "outputs": [
    {
     "ename": "KeyError",
     "evalue": "\"None of [Index([   'BROWN',    'BLACK',     'Rust',    'BLOND',    'Black', 'Charcoal',\\n          'White',      'TAN',      'RED',    'WHITE',\\n       ...\\n          'Brown',    'Brown',    'White',    'Brown',     'Fawn',     'Fawn',\\n          'Cream',     'GOLD',    'WHITE',    'BROWN'],\\n      dtype='object', length=81937)] are in the [columns]\"",
     "output_type": "error",
     "traceback": [
      "\u001b[0;31m---------------------------------------------------------------------------\u001b[0m",
      "\u001b[0;31mKeyError\u001b[0m                                  Traceback (most recent call last)",
      "\u001b[0;32m/var/folders/mm/7r7tnzn90cxcfg9kflk_94qc0000gn/T/ipykernel_39692/1583702837.py\u001b[0m in \u001b[0;36m<module>\u001b[0;34m\u001b[0m\n\u001b[0;32m----> 1\u001b[0;31m \u001b[0mdf\u001b[0m\u001b[0;34m[\u001b[0m\u001b[0;34m'Monochrome'\u001b[0m\u001b[0;34m]\u001b[0m \u001b[0;34m=\u001b[0m \u001b[0mdf\u001b[0m\u001b[0;34m[\u001b[0m\u001b[0mdf\u001b[0m\u001b[0;34m.\u001b[0m\u001b[0mAnimal_Dominant_Color\u001b[0m\u001b[0;34m]\u001b[0m\u001b[0;34m.\u001b[0m\u001b[0mstr\u001b[0m\u001b[0;34m.\u001b[0m\u001b[0mlower\u001b[0m\u001b[0;34m(\u001b[0m\u001b[0;34m)\u001b[0m\u001b[0;34m\u001b[0m\u001b[0;34m\u001b[0m\u001b[0m\n\u001b[0m\u001b[1;32m      2\u001b[0m \u001b[0mdf\u001b[0m\u001b[0;34m[\u001b[0m\u001b[0mdf\u001b[0m\u001b[0;34m.\u001b[0m\u001b[0mMonochrome\u001b[0m \u001b[0;34m==\u001b[0m \u001b[0;34m'black'\u001b[0m\u001b[0;34m,\u001b[0m \u001b[0;34m'white'\u001b[0m\u001b[0;34m]\u001b[0m\u001b[0;34m\u001b[0m\u001b[0;34m\u001b[0m\u001b[0m\n\u001b[1;32m      3\u001b[0m \u001b[0mdf\u001b[0m\u001b[0;34m.\u001b[0m\u001b[0mMonochrome\u001b[0m\u001b[0;34m\u001b[0m\u001b[0;34m\u001b[0m\u001b[0m\n",
      "\u001b[0;32m~/.pyenv/versions/3.10.0/lib/python3.10/site-packages/pandas/core/frame.py\u001b[0m in \u001b[0;36m__getitem__\u001b[0;34m(self, key)\u001b[0m\n\u001b[1;32m   3462\u001b[0m             \u001b[0;32mif\u001b[0m \u001b[0mis_iterator\u001b[0m\u001b[0;34m(\u001b[0m\u001b[0mkey\u001b[0m\u001b[0;34m)\u001b[0m\u001b[0;34m:\u001b[0m\u001b[0;34m\u001b[0m\u001b[0;34m\u001b[0m\u001b[0m\n\u001b[1;32m   3463\u001b[0m                 \u001b[0mkey\u001b[0m \u001b[0;34m=\u001b[0m \u001b[0mlist\u001b[0m\u001b[0;34m(\u001b[0m\u001b[0mkey\u001b[0m\u001b[0;34m)\u001b[0m\u001b[0;34m\u001b[0m\u001b[0;34m\u001b[0m\u001b[0m\n\u001b[0;32m-> 3464\u001b[0;31m             \u001b[0mindexer\u001b[0m \u001b[0;34m=\u001b[0m \u001b[0mself\u001b[0m\u001b[0;34m.\u001b[0m\u001b[0mloc\u001b[0m\u001b[0;34m.\u001b[0m\u001b[0m_get_listlike_indexer\u001b[0m\u001b[0;34m(\u001b[0m\u001b[0mkey\u001b[0m\u001b[0;34m,\u001b[0m \u001b[0maxis\u001b[0m\u001b[0;34m=\u001b[0m\u001b[0;36m1\u001b[0m\u001b[0;34m)\u001b[0m\u001b[0;34m[\u001b[0m\u001b[0;36m1\u001b[0m\u001b[0;34m]\u001b[0m\u001b[0;34m\u001b[0m\u001b[0;34m\u001b[0m\u001b[0m\n\u001b[0m\u001b[1;32m   3465\u001b[0m \u001b[0;34m\u001b[0m\u001b[0m\n\u001b[1;32m   3466\u001b[0m         \u001b[0;31m# take() does not accept boolean indexers\u001b[0m\u001b[0;34m\u001b[0m\u001b[0;34m\u001b[0m\u001b[0m\n",
      "\u001b[0;32m~/.pyenv/versions/3.10.0/lib/python3.10/site-packages/pandas/core/indexing.py\u001b[0m in \u001b[0;36m_get_listlike_indexer\u001b[0;34m(self, key, axis)\u001b[0m\n\u001b[1;32m   1312\u001b[0m             \u001b[0mkeyarr\u001b[0m\u001b[0;34m,\u001b[0m \u001b[0mindexer\u001b[0m\u001b[0;34m,\u001b[0m \u001b[0mnew_indexer\u001b[0m \u001b[0;34m=\u001b[0m \u001b[0max\u001b[0m\u001b[0;34m.\u001b[0m\u001b[0m_reindex_non_unique\u001b[0m\u001b[0;34m(\u001b[0m\u001b[0mkeyarr\u001b[0m\u001b[0;34m)\u001b[0m\u001b[0;34m\u001b[0m\u001b[0;34m\u001b[0m\u001b[0m\n\u001b[1;32m   1313\u001b[0m \u001b[0;34m\u001b[0m\u001b[0m\n\u001b[0;32m-> 1314\u001b[0;31m         \u001b[0mself\u001b[0m\u001b[0;34m.\u001b[0m\u001b[0m_validate_read_indexer\u001b[0m\u001b[0;34m(\u001b[0m\u001b[0mkeyarr\u001b[0m\u001b[0;34m,\u001b[0m \u001b[0mindexer\u001b[0m\u001b[0;34m,\u001b[0m \u001b[0maxis\u001b[0m\u001b[0;34m)\u001b[0m\u001b[0;34m\u001b[0m\u001b[0;34m\u001b[0m\u001b[0m\n\u001b[0m\u001b[1;32m   1315\u001b[0m \u001b[0;34m\u001b[0m\u001b[0m\n\u001b[1;32m   1316\u001b[0m         if needs_i8_conversion(ax.dtype) or isinstance(\n",
      "\u001b[0;32m~/.pyenv/versions/3.10.0/lib/python3.10/site-packages/pandas/core/indexing.py\u001b[0m in \u001b[0;36m_validate_read_indexer\u001b[0;34m(self, key, indexer, axis)\u001b[0m\n\u001b[1;32m   1372\u001b[0m                 \u001b[0;32mif\u001b[0m \u001b[0muse_interval_msg\u001b[0m\u001b[0;34m:\u001b[0m\u001b[0;34m\u001b[0m\u001b[0;34m\u001b[0m\u001b[0m\n\u001b[1;32m   1373\u001b[0m                     \u001b[0mkey\u001b[0m \u001b[0;34m=\u001b[0m \u001b[0mlist\u001b[0m\u001b[0;34m(\u001b[0m\u001b[0mkey\u001b[0m\u001b[0;34m)\u001b[0m\u001b[0;34m\u001b[0m\u001b[0;34m\u001b[0m\u001b[0m\n\u001b[0;32m-> 1374\u001b[0;31m                 \u001b[0;32mraise\u001b[0m \u001b[0mKeyError\u001b[0m\u001b[0;34m(\u001b[0m\u001b[0;34mf\"None of [{key}] are in the [{axis_name}]\"\u001b[0m\u001b[0;34m)\u001b[0m\u001b[0;34m\u001b[0m\u001b[0;34m\u001b[0m\u001b[0m\n\u001b[0m\u001b[1;32m   1375\u001b[0m \u001b[0;34m\u001b[0m\u001b[0m\n\u001b[1;32m   1376\u001b[0m             \u001b[0mnot_found\u001b[0m \u001b[0;34m=\u001b[0m \u001b[0mlist\u001b[0m\u001b[0;34m(\u001b[0m\u001b[0mensure_index\u001b[0m\u001b[0;34m(\u001b[0m\u001b[0mkey\u001b[0m\u001b[0;34m)\u001b[0m\u001b[0;34m[\u001b[0m\u001b[0mmissing_mask\u001b[0m\u001b[0;34m.\u001b[0m\u001b[0mnonzero\u001b[0m\u001b[0;34m(\u001b[0m\u001b[0;34m)\u001b[0m\u001b[0;34m[\u001b[0m\u001b[0;36m0\u001b[0m\u001b[0;34m]\u001b[0m\u001b[0;34m]\u001b[0m\u001b[0;34m.\u001b[0m\u001b[0munique\u001b[0m\u001b[0;34m(\u001b[0m\u001b[0;34m)\u001b[0m\u001b[0;34m)\u001b[0m\u001b[0;34m\u001b[0m\u001b[0;34m\u001b[0m\u001b[0m\n",
      "\u001b[0;31mKeyError\u001b[0m: \"None of [Index([   'BROWN',    'BLACK',     'Rust',    'BLOND',    'Black', 'Charcoal',\\n          'White',      'TAN',      'RED',    'WHITE',\\n       ...\\n          'Brown',    'Brown',    'White',    'Brown',     'Fawn',     'Fawn',\\n          'Cream',     'GOLD',    'WHITE',    'BROWN'],\\n      dtype='object', length=81937)] are in the [columns]\""
     ]
    }
   ],
   "source": [
    "df['monochrome'] "
   ]
  },
  {
   "cell_type": "markdown",
   "metadata": {},
   "source": [
    "## How many dogs are in each borough? Plot it in a graph."
   ]
  },
  {
   "cell_type": "code",
   "execution_count": 481,
   "metadata": {
    "scrolled": true
   },
   "outputs": [
    {
     "data": {
      "text/plain": [
       "Manhattan        28536\n",
       "Brooklyn         19786\n",
       "Queens           16696\n",
       "Bronx             7951\n",
       "Staten Island     7890\n",
       "Name: borough, dtype: int64"
      ]
     },
     "execution_count": 481,
     "metadata": {},
     "output_type": "execute_result"
    }
   ],
   "source": [
    "merged_df.borough.value_counts()"
   ]
  },
  {
   "cell_type": "code",
   "execution_count": 482,
   "metadata": {},
   "outputs": [
    {
     "data": {
      "text/plain": [
       "<AxesSubplot:>"
      ]
     },
     "execution_count": 482,
     "metadata": {},
     "output_type": "execute_result"
    },
    {
     "data": {
      "image/png": "[encoded data removed]",
      "text/plain": [
       "<Figure size 432x288 with 1 Axes>"
      ]
     },
     "metadata": {
      "needs_background": "light"
     },
     "output_type": "display_data"
    }
   ],
   "source": [
    "merged_df.borough.value_counts().sort_values().plot(kind='barh')"
   ]
  },
  {
   "cell_type": "markdown",
   "metadata": {},
   "source": [
    "## Which borough has the highest number of dogs per-capita?\n",
    "\n",
    "You’ll need to merge in `population_boro.csv`"
   ]
  },
  {
   "cell_type": "code",
   "execution_count": 483,
   "metadata": {},
   "outputs": [
    {
     "data": {
      "text/html": [
       "<div>\n",
       "<style scoped>\n",
       "    .dataframe tbody tr th:only-of-type {\n",
       "        vertical-align: middle;\n",
       "    }\n",
       "\n",
       "    .dataframe tbody tr th {\n",
       "        vertical-align: top;\n",
       "    }\n",
       "\n",
       "    .dataframe thead th {\n",
       "        text-align: right;\n",
       "    }\n",
       "</style>\n",
       "<table border=\"1\" class=\"dataframe\">\n",
       "  <thead>\n",
       "    <tr style=\"text-align: right;\">\n",
       "      <th></th>\n",
       "      <th>Owner_Zip_Code</th>\n",
       "      <th>Animal_Name</th>\n",
       "      <th>Animal_Gender</th>\n",
       "      <th>Primary_Breed</th>\n",
       "      <th>Secondary_Breed</th>\n",
       "      <th>Animal_Dominant_Color</th>\n",
       "      <th>Animal_Secondary_Color</th>\n",
       "      <th>Animal_Third_Color</th>\n",
       "      <th>Animal_Birth</th>\n",
       "      <th>Spayed_or_Neut</th>\n",
       "      <th>...</th>\n",
       "      <th>Vaccinated</th>\n",
       "      <th>Application_Date</th>\n",
       "      <th>License_Issued_Date</th>\n",
       "      <th>License_Expired_Date</th>\n",
       "      <th>Year</th>\n",
       "      <th>Age</th>\n",
       "      <th>neighborhood</th>\n",
       "      <th>borough</th>\n",
       "      <th>population</th>\n",
       "      <th>area_sqmi</th>\n",
       "    </tr>\n",
       "  </thead>\n",
       "  <tbody>\n",
       "    <tr>\n",
       "      <th>0</th>\n",
       "      <td>10024</td>\n",
       "      <td>blue mack</td>\n",
       "      <td>M</td>\n",
       "      <td>NaN</td>\n",
       "      <td>AIREDALE TERR</td>\n",
       "      <td>BROWN</td>\n",
       "      <td>BLACK</td>\n",
       "      <td>NaN</td>\n",
       "      <td>2007-11-01</td>\n",
       "      <td>Yes</td>\n",
       "      <td>...</td>\n",
       "      <td>Yes</td>\n",
       "      <td>2012-09-19 16:01:19.647</td>\n",
       "      <td>2015-09-19</td>\n",
       "      <td>2016-09-19</td>\n",
       "      <td>2007</td>\n",
       "      <td>14</td>\n",
       "      <td>Upper West Side</td>\n",
       "      <td>Manhattan</td>\n",
       "      <td>1644518</td>\n",
       "      <td>23</td>\n",
       "    </tr>\n",
       "    <tr>\n",
       "      <th>1</th>\n",
       "      <td>10024</td>\n",
       "      <td>louie</td>\n",
       "      <td>M</td>\n",
       "      <td>NaN</td>\n",
       "      <td>Coonhound</td>\n",
       "      <td>Black</td>\n",
       "      <td>White</td>\n",
       "      <td>Brown</td>\n",
       "      <td>2008-05-01</td>\n",
       "      <td>Yes</td>\n",
       "      <td>...</td>\n",
       "      <td>Yes</td>\n",
       "      <td>2014-09-15 16:36:20.200</td>\n",
       "      <td>2014-09-15</td>\n",
       "      <td>2017-09-03</td>\n",
       "      <td>2008</td>\n",
       "      <td>13</td>\n",
       "      <td>Upper West Side</td>\n",
       "      <td>Manhattan</td>\n",
       "      <td>1644518</td>\n",
       "      <td>23</td>\n",
       "    </tr>\n",
       "    <tr>\n",
       "      <th>2</th>\n",
       "      <td>10024</td>\n",
       "      <td>tosha</td>\n",
       "      <td>F</td>\n",
       "      <td>Collie, Smooth Coat</td>\n",
       "      <td>NaN</td>\n",
       "      <td>BLUE MERLE</td>\n",
       "      <td>WHITE</td>\n",
       "      <td>TAN</td>\n",
       "      <td>2011-12-01</td>\n",
       "      <td>Yes</td>\n",
       "      <td>...</td>\n",
       "      <td>Yes</td>\n",
       "      <td>2014-09-16 10:22:07.867</td>\n",
       "      <td>2014-09-16</td>\n",
       "      <td>2017-10-11</td>\n",
       "      <td>2011</td>\n",
       "      <td>10</td>\n",
       "      <td>Upper West Side</td>\n",
       "      <td>Manhattan</td>\n",
       "      <td>1644518</td>\n",
       "      <td>23</td>\n",
       "    </tr>\n",
       "    <tr>\n",
       "      <th>3</th>\n",
       "      <td>10024</td>\n",
       "      <td>poppett</td>\n",
       "      <td>F</td>\n",
       "      <td>Dachshund, Long Haired Miniature</td>\n",
       "      <td>NaN</td>\n",
       "      <td>Black</td>\n",
       "      <td>Brown</td>\n",
       "      <td>Silver</td>\n",
       "      <td>2011-02-01</td>\n",
       "      <td>Yes</td>\n",
       "      <td>...</td>\n",
       "      <td>Yes</td>\n",
       "      <td>2014-09-18 16:25:57.323</td>\n",
       "      <td>2014-09-18</td>\n",
       "      <td>2019-09-18</td>\n",
       "      <td>2011</td>\n",
       "      <td>10</td>\n",
       "      <td>Upper West Side</td>\n",
       "      <td>Manhattan</td>\n",
       "      <td>1644518</td>\n",
       "      <td>23</td>\n",
       "    </tr>\n",
       "    <tr>\n",
       "      <th>4</th>\n",
       "      <td>10024</td>\n",
       "      <td>harlen</td>\n",
       "      <td>M</td>\n",
       "      <td>NaN</td>\n",
       "      <td>Plott Hound</td>\n",
       "      <td>BLACK</td>\n",
       "      <td>TAN</td>\n",
       "      <td>BROWN</td>\n",
       "      <td>2007-05-01</td>\n",
       "      <td>Yes</td>\n",
       "      <td>...</td>\n",
       "      <td>Yes</td>\n",
       "      <td>2014-09-25 17:11:20.713</td>\n",
       "      <td>2014-09-25</td>\n",
       "      <td>2016-08-20</td>\n",
       "      <td>2007</td>\n",
       "      <td>14</td>\n",
       "      <td>Upper West Side</td>\n",
       "      <td>Manhattan</td>\n",
       "      <td>1644518</td>\n",
       "      <td>23</td>\n",
       "    </tr>\n",
       "    <tr>\n",
       "      <th>...</th>\n",
       "      <td>...</td>\n",
       "      <td>...</td>\n",
       "      <td>...</td>\n",
       "      <td>...</td>\n",
       "      <td>...</td>\n",
       "      <td>...</td>\n",
       "      <td>...</td>\n",
       "      <td>...</td>\n",
       "      <td>...</td>\n",
       "      <td>...</td>\n",
       "      <td>...</td>\n",
       "      <td>...</td>\n",
       "      <td>...</td>\n",
       "      <td>...</td>\n",
       "      <td>...</td>\n",
       "      <td>...</td>\n",
       "      <td>...</td>\n",
       "      <td>...</td>\n",
       "      <td>...</td>\n",
       "      <td>...</td>\n",
       "      <td>...</td>\n",
       "    </tr>\n",
       "    <tr>\n",
       "      <th>80854</th>\n",
       "      <td>11436</td>\n",
       "      <td>mack</td>\n",
       "      <td>M</td>\n",
       "      <td>Bullmastiff</td>\n",
       "      <td>NaN</td>\n",
       "      <td>Black</td>\n",
       "      <td>Brown</td>\n",
       "      <td>Brindle</td>\n",
       "      <td>2015-11-01</td>\n",
       "      <td>No</td>\n",
       "      <td>...</td>\n",
       "      <td>No</td>\n",
       "      <td>2016-04-15 16:36:20.033</td>\n",
       "      <td>2016-04-15</td>\n",
       "      <td>2017-04-15</td>\n",
       "      <td>2015</td>\n",
       "      <td>6</td>\n",
       "      <td>Jamaica</td>\n",
       "      <td>Queens</td>\n",
       "      <td>2339150</td>\n",
       "      <td>109</td>\n",
       "    </tr>\n",
       "    <tr>\n",
       "      <th>80855</th>\n",
       "      <td>11436</td>\n",
       "      <td>king</td>\n",
       "      <td>M</td>\n",
       "      <td>Yorkshire Terrier Crossbreed</td>\n",
       "      <td>NaN</td>\n",
       "      <td>Gold</td>\n",
       "      <td>NaN</td>\n",
       "      <td>NaN</td>\n",
       "      <td>2014-10-01</td>\n",
       "      <td>Yes</td>\n",
       "      <td>...</td>\n",
       "      <td>Yes</td>\n",
       "      <td>2016-04-15 19:53:46.560</td>\n",
       "      <td>2016-04-15</td>\n",
       "      <td>2017-04-15</td>\n",
       "      <td>2014</td>\n",
       "      <td>7</td>\n",
       "      <td>Jamaica</td>\n",
       "      <td>Queens</td>\n",
       "      <td>2339150</td>\n",
       "      <td>109</td>\n",
       "    </tr>\n",
       "    <tr>\n",
       "      <th>80856</th>\n",
       "      <td>11436</td>\n",
       "      <td>whisky</td>\n",
       "      <td>M</td>\n",
       "      <td>Shih Tzu</td>\n",
       "      <td>NaN</td>\n",
       "      <td>Brown</td>\n",
       "      <td>White</td>\n",
       "      <td>Gray</td>\n",
       "      <td>2013-09-01</td>\n",
       "      <td>Yes</td>\n",
       "      <td>...</td>\n",
       "      <td>Yes</td>\n",
       "      <td>2016-04-20 14:12:32.620</td>\n",
       "      <td>2016-04-20</td>\n",
       "      <td>2017-05-14</td>\n",
       "      <td>2013</td>\n",
       "      <td>8</td>\n",
       "      <td>Jamaica</td>\n",
       "      <td>Queens</td>\n",
       "      <td>2339150</td>\n",
       "      <td>109</td>\n",
       "    </tr>\n",
       "    <tr>\n",
       "      <th>80857</th>\n",
       "      <td>11436</td>\n",
       "      <td>logan</td>\n",
       "      <td>M</td>\n",
       "      <td>Labrador Retriever Crossbreed</td>\n",
       "      <td>NaN</td>\n",
       "      <td>Black</td>\n",
       "      <td>White</td>\n",
       "      <td>NaN</td>\n",
       "      <td>2014-11-01</td>\n",
       "      <td>Yes</td>\n",
       "      <td>...</td>\n",
       "      <td>Yes</td>\n",
       "      <td>2016-04-23 12:12:37.633</td>\n",
       "      <td>2016-04-23</td>\n",
       "      <td>2017-04-25</td>\n",
       "      <td>2014</td>\n",
       "      <td>7</td>\n",
       "      <td>Jamaica</td>\n",
       "      <td>Queens</td>\n",
       "      <td>2339150</td>\n",
       "      <td>109</td>\n",
       "    </tr>\n",
       "    <tr>\n",
       "      <th>80858</th>\n",
       "      <td>11005</td>\n",
       "      <td>bichon</td>\n",
       "      <td>F</td>\n",
       "      <td>Bichon Frise</td>\n",
       "      <td>NaN</td>\n",
       "      <td>White</td>\n",
       "      <td>NaN</td>\n",
       "      <td>NaN</td>\n",
       "      <td>2015-05-01</td>\n",
       "      <td>No</td>\n",
       "      <td>...</td>\n",
       "      <td>No</td>\n",
       "      <td>2015-08-06 18:46:01.953</td>\n",
       "      <td>2015-08-06</td>\n",
       "      <td>2016-08-06</td>\n",
       "      <td>2015</td>\n",
       "      <td>6</td>\n",
       "      <td>Southeast Queens</td>\n",
       "      <td>Queens</td>\n",
       "      <td>2339150</td>\n",
       "      <td>109</td>\n",
       "    </tr>\n",
       "  </tbody>\n",
       "</table>\n",
       "<p>80859 rows × 21 columns</p>\n",
       "</div>"
      ],
      "text/plain": [
       "       Owner_Zip_Code Animal_Name Animal_Gender  \\\n",
       "0               10024   blue mack             M   \n",
       "1               10024       louie             M   \n",
       "2               10024       tosha             F   \n",
       "3               10024     poppett             F   \n",
       "4               10024      harlen             M   \n",
       "...               ...         ...           ...   \n",
       "80854           11436        mack             M   \n",
       "80855           11436        king             M   \n",
       "80856           11436      whisky             M   \n",
       "80857           11436      logan              M   \n",
       "80858           11005      bichon             F   \n",
       "\n",
       "                          Primary_Breed Secondary_Breed Animal_Dominant_Color  \\\n",
       "0                                   NaN   AIREDALE TERR                 BROWN   \n",
       "1                                   NaN       Coonhound                 Black   \n",
       "2                   Collie, Smooth Coat             NaN            BLUE MERLE   \n",
       "3      Dachshund, Long Haired Miniature             NaN                 Black   \n",
       "4                                   NaN     Plott Hound                 BLACK   \n",
       "...                                 ...             ...                   ...   \n",
       "80854                       Bullmastiff             NaN                 Black   \n",
       "80855      Yorkshire Terrier Crossbreed             NaN                  Gold   \n",
       "80856                          Shih Tzu             NaN                 Brown   \n",
       "80857     Labrador Retriever Crossbreed             NaN                 Black   \n",
       "80858                      Bichon Frise             NaN                 White   \n",
       "\n",
       "      Animal_Secondary_Color Animal_Third_Color Animal_Birth Spayed_or_Neut  \\\n",
       "0                      BLACK                NaN   2007-11-01            Yes   \n",
       "1                      White              Brown   2008-05-01            Yes   \n",
       "2                      WHITE                TAN   2011-12-01            Yes   \n",
       "3                      Brown             Silver   2011-02-01            Yes   \n",
       "4                        TAN              BROWN   2007-05-01            Yes   \n",
       "...                      ...                ...          ...            ...   \n",
       "80854                  Brown            Brindle   2015-11-01             No   \n",
       "80855                    NaN                NaN   2014-10-01            Yes   \n",
       "80856                  White               Gray   2013-09-01            Yes   \n",
       "80857                  White                NaN   2014-11-01            Yes   \n",
       "80858                    NaN                NaN   2015-05-01             No   \n",
       "\n",
       "       ... Vaccinated        Application_Date License_Issued_Date  \\\n",
       "0      ...        Yes 2012-09-19 16:01:19.647          2015-09-19   \n",
       "1      ...        Yes 2014-09-15 16:36:20.200          2014-09-15   \n",
       "2      ...        Yes 2014-09-16 10:22:07.867          2014-09-16   \n",
       "3      ...        Yes 2014-09-18 16:25:57.323          2014-09-18   \n",
       "4      ...        Yes 2014-09-25 17:11:20.713          2014-09-25   \n",
       "...    ...        ...                     ...                 ...   \n",
       "80854  ...         No 2016-04-15 16:36:20.033          2016-04-15   \n",
       "80855  ...        Yes 2016-04-15 19:53:46.560          2016-04-15   \n",
       "80856  ...        Yes 2016-04-20 14:12:32.620          2016-04-20   \n",
       "80857  ...        Yes 2016-04-23 12:12:37.633          2016-04-23   \n",
       "80858  ...         No 2015-08-06 18:46:01.953          2015-08-06   \n",
       "\n",
       "      License_Expired_Date  Year  Age      neighborhood    borough population  \\\n",
       "0               2016-09-19  2007   14   Upper West Side  Manhattan    1644518   \n",
       "1               2017-09-03  2008   13   Upper West Side  Manhattan    1644518   \n",
       "2               2017-10-11  2011   10   Upper West Side  Manhattan    1644518   \n",
       "3               2019-09-18  2011   10   Upper West Side  Manhattan    1644518   \n",
       "4               2016-08-20  2007   14   Upper West Side  Manhattan    1644518   \n",
       "...                    ...   ...  ...               ...        ...        ...   \n",
       "80854           2017-04-15  2015    6           Jamaica     Queens    2339150   \n",
       "80855           2017-04-15  2014    7           Jamaica     Queens    2339150   \n",
       "80856           2017-05-14  2013    8           Jamaica     Queens    2339150   \n",
       "80857           2017-04-25  2014    7           Jamaica     Queens    2339150   \n",
       "80858           2016-08-06  2015    6  Southeast Queens     Queens    2339150   \n",
       "\n",
       "       area_sqmi  \n",
       "0             23  \n",
       "1             23  \n",
       "2             23  \n",
       "3             23  \n",
       "4             23  \n",
       "...          ...  \n",
       "80854        109  \n",
       "80855        109  \n",
       "80856        109  \n",
       "80857        109  \n",
       "80858        109  \n",
       "\n",
       "[80859 rows x 21 columns]"
      ]
     },
     "execution_count": 483,
     "metadata": {},
     "output_type": "execute_result"
    }
   ],
   "source": [
    "popu = pd.read_csv(\"boro_population.csv\")\n",
    "merged_popu = pd.merge(merged_df, popu, on=\"borough\")\n",
    "merged_popu"
   ]
  },
  {
   "cell_type": "code",
   "execution_count": 484,
   "metadata": {},
   "outputs": [
    {
     "data": {
      "text/plain": [
       "Manhattan        1.859394e-07\n",
       "Brooklyn         1.289248e-07\n",
       "Queens           1.087905e-07\n",
       "Bronx            5.180839e-08\n",
       "Staten Island    5.141092e-08\n",
       "Name: borough, dtype: float64"
      ]
     },
     "execution_count": 484,
     "metadata": {},
     "output_type": "execute_result"
    }
   ],
   "source": [
    "# highest number of dogs per-capita\n",
    "dogs_per_capita = merged_popu.borough.value_counts() / merged_popu.population.sum()\n",
    "dogs_per_capita"
   ]
  },
  {
   "cell_type": "markdown",
   "metadata": {},
   "source": [
    "## Make a bar graph of the top 5 breeds in each borough.\n",
    "\n",
    "How do you groupby and then only take the top X number? You **really** should ask me, because it's kind of crazy."
   ]
  },
  {
   "cell_type": "code",
   "execution_count": 505,
   "metadata": {
    "scrolled": true
   },
   "outputs": [
    {
     "data": {
      "text/plain": [
       "borough        Primary_Breed                     \n",
       "Bronx          Yorkshire Terrier                      753\n",
       "               Shih Tzu                               682\n",
       "               Chihuahua                              553\n",
       "               American Pit Bull Terrier/Pit Bull     442\n",
       "               Maltese                                345\n",
       "Brooklyn       Yorkshire Terrier                     1316\n",
       "               Shih Tzu                              1236\n",
       "               Chihuahua                              987\n",
       "               Labrador Retriever                     655\n",
       "               Maltese                                640\n",
       "Manhattan      Yorkshire Terrier                     1402\n",
       "               Chihuahua                             1287\n",
       "               Shih Tzu                              1227\n",
       "               Labrador Retriever                    1100\n",
       "               Maltese                                856\n",
       "Queens         Yorkshire Terrier                     1085\n",
       "               Shih Tzu                              1042\n",
       "               Maltese                                806\n",
       "               Chihuahua                              784\n",
       "               Labrador Retriever                     505\n",
       "Staten Island  Yorkshire Terrier                      525\n",
       "               Shih Tzu                               501\n",
       "               Labrador Retriever                     404\n",
       "               Maltese                                284\n",
       "               Chihuahua                              261\n",
       "Name: Primary_Breed, dtype: int64"
      ]
     },
     "execution_count": 505,
     "metadata": {},
     "output_type": "execute_result"
    }
   ],
   "source": [
    "popular_dogs = merged_popu.groupby('borough').Primary_Breed.value_counts().groupby(level=0, group_keys=False).nlargest(5)\n",
    "popular_dogs"
   ]
  },
  {
   "cell_type": "code",
   "execution_count": 498,
   "metadata": {},
   "outputs": [
    {
     "data": {
      "text/plain": [
       "<AxesSubplot:xlabel='borough,Primary_Breed'>"
      ]
     },
     "execution_count": 498,
     "metadata": {},
     "output_type": "execute_result"
    },
    {
     "data": {
      "image/png": "[encoded data removed]",
      "text/plain": [
       "<Figure size 432x288 with 1 Axes>"
      ]
     },
     "metadata": {
      "needs_background": "light"
     },
     "output_type": "display_data"
    }
   ],
   "source": [
    "popular_dogs.plot(kind='line')"
   ]
  },
  {
   "cell_type": "markdown",
   "metadata": {},
   "source": [
    "## What percentage of dogs are not guard dogs?"
   ]
  },
  {
   "cell_type": "code",
   "execution_count": 486,
   "metadata": {},
   "outputs": [
    {
     "data": {
      "text/plain": [
       "No     80810\n",
       "Yes       49\n",
       "Name: Guard_or_Trained, dtype: int64"
      ]
     },
     "execution_count": 486,
     "metadata": {},
     "output_type": "execute_result"
    }
   ],
   "source": [
    "# I think the total figure has changed after we renamed null values as untrained dogs ('No')\n",
    "# and after we converted dogs with unknown names into null values\n",
    "merged_popu.Guard_or_Trained.value_counts()"
   ]
  },
  {
   "cell_type": "code",
   "execution_count": 488,
   "metadata": {},
   "outputs": [
    {
     "data": {
      "text/plain": [
       "No     99.939401\n",
       "Yes     0.060599\n",
       "Name: Guard_or_Trained, dtype: float64"
      ]
     },
     "execution_count": 488,
     "metadata": {},
     "output_type": "execute_result"
    }
   ],
   "source": [
    "# more than 99 % aren't guard dogs\n",
    "merged_popu.Guard_or_Trained.value_counts(normalize=True) * 100"
   ]
  },
  {
   "cell_type": "code",
   "execution_count": null,
   "metadata": {},
   "outputs": [],
   "source": []
  }
 ],
 "metadata": {
  "kernelspec": {
   "display_name": "Python 3 (ipykernel)",
   "language": "python",
   "name": "python3"
  },
  "language_info": {
   "codemirror_mode": {
    "name": "ipython",
    "version": 3
   },
   "file_extension": ".py",
   "mimetype": "text/x-python",
   "name": "python",
   "nbconvert_exporter": "python",
   "pygments_lexer": "ipython3",
   "version": "3.10.0"
  }
 },
 "nbformat": 4,
 "nbformat_minor": 2
}
